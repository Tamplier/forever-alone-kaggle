{
 "cells": [
  {
   "cell_type": "markdown",
   "metadata": {},
   "source": [
    "# Job Classifier\n",
    "\n",
    "The goal of this notepad is to create simple classifier which shold map occupations to some group.\n",
    "The classifier is based on [O*net Online groups](https://www.onetonline.org/find/family?f=0&g=Go)\n",
    "It is assumed to use the obtained classifier to work with the column \"work\" of the [ForeverAlone Dataset](https://www.kaggle.com/kingburrito666/the-demographic-rforeveralone-dataset).\n",
    "\n",
    "#### The dataset columns:\n",
    "+ Code - O*NET-SOC Code. It's not important for this research\n",
    "+ Occupation - job title\n",
    "+ Job Family - groups of occupations based upon work performed, skills, education, training, and credentials."
   ]
  },
  {
   "cell_type": "code",
   "execution_count": 1,
   "metadata": {},
   "outputs": [],
   "source": [
    "import pandas as pd\n",
    "import numpy as np\n",
    "import matplotlib.pyplot as plt\n",
    "%matplotlib inline"
   ]
  },
  {
   "cell_type": "code",
   "execution_count": 2,
   "metadata": {},
   "outputs": [],
   "source": [
    "occupations_ds = pd.read_csv('All_Occupations.csv')"
   ]
  },
  {
   "cell_type": "code",
   "execution_count": 3,
   "metadata": {},
   "outputs": [
    {
     "data": {
      "text/html": [
       "<div>\n",
       "<style scoped>\n",
       "    .dataframe tbody tr th:only-of-type {\n",
       "        vertical-align: middle;\n",
       "    }\n",
       "\n",
       "    .dataframe tbody tr th {\n",
       "        vertical-align: top;\n",
       "    }\n",
       "\n",
       "    .dataframe thead th {\n",
       "        text-align: right;\n",
       "    }\n",
       "</style>\n",
       "<table border=\"1\" class=\"dataframe\">\n",
       "  <thead>\n",
       "    <tr style=\"text-align: right;\">\n",
       "      <th></th>\n",
       "      <th>Code</th>\n",
       "      <th>Occupation</th>\n",
       "      <th>Job Family</th>\n",
       "    </tr>\n",
       "  </thead>\n",
       "  <tbody>\n",
       "    <tr>\n",
       "      <th>0</th>\n",
       "      <td>13-2011.01</td>\n",
       "      <td>Accountants</td>\n",
       "      <td>Business and Financial Operations</td>\n",
       "    </tr>\n",
       "    <tr>\n",
       "      <th>1</th>\n",
       "      <td>13-2011.00</td>\n",
       "      <td>Accountants and Auditors</td>\n",
       "      <td>Business and Financial Operations</td>\n",
       "    </tr>\n",
       "    <tr>\n",
       "      <th>2</th>\n",
       "      <td>27-2011.00</td>\n",
       "      <td>Actors</td>\n",
       "      <td>Arts, Design, Entertainment, Sports, and Media</td>\n",
       "    </tr>\n",
       "    <tr>\n",
       "      <th>3</th>\n",
       "      <td>15-2011.00</td>\n",
       "      <td>Actuaries</td>\n",
       "      <td>Computer and Mathematical</td>\n",
       "    </tr>\n",
       "    <tr>\n",
       "      <th>4</th>\n",
       "      <td>29-1199.01</td>\n",
       "      <td>Acupuncturists</td>\n",
       "      <td>Healthcare Practitioners and Technical</td>\n",
       "    </tr>\n",
       "  </tbody>\n",
       "</table>\n",
       "</div>"
      ],
      "text/plain": [
       "         Code                Occupation  \\\n",
       "0  13-2011.01               Accountants   \n",
       "1  13-2011.00  Accountants and Auditors   \n",
       "2  27-2011.00                    Actors   \n",
       "3  15-2011.00                 Actuaries   \n",
       "4  29-1199.01            Acupuncturists   \n",
       "\n",
       "                                       Job Family  \n",
       "0               Business and Financial Operations  \n",
       "1               Business and Financial Operations  \n",
       "2  Arts, Design, Entertainment, Sports, and Media  \n",
       "3                       Computer and Mathematical  \n",
       "4          Healthcare Practitioners and Technical  "
      ]
     },
     "execution_count": 3,
     "metadata": {},
     "output_type": "execute_result"
    }
   ],
   "source": [
    "occupations_ds.head()"
   ]
  },
  {
   "cell_type": "code",
   "execution_count": 4,
   "metadata": {},
   "outputs": [],
   "source": [
    "# We don't need job code for this classifier.\n",
    "occupations_ds = occupations_ds.drop('Code', axis=1)"
   ]
  },
  {
   "cell_type": "code",
   "execution_count": 5,
   "metadata": {},
   "outputs": [
    {
     "data": {
      "text/plain": [
       "array([[<matplotlib.axes._subplots.AxesSubplot object at 0x11c8164d0>]],\n",
       "      dtype=object)"
      ]
     },
     "execution_count": 5,
     "metadata": {},
     "output_type": "execute_result"
    },
    {
     "data": {
      "image/png": "[encoded data removed]",
      "text/plain": [
       "<Figure size 432x288 with 1 Axes>"
      ]
     },
     "metadata": {
      "needs_background": "light"
     },
     "output_type": "display_data"
    }
   ],
   "source": [
    "occupations_ds.groupby('Job Family').count().hist()"
   ]
  },
  {
   "cell_type": "markdown",
   "metadata": {},
   "source": [
    "The dataset isn't balanced. Class weight to deal with it.\n",
    "\n",
    "Also, and more important, there is no class \"Not a job\". There are lot of trash in job_title column of ForeverAlone dataset (like \"what?\", \"u serious?\" etc).\n",
    "It's a natural language and it's good idea to use tweets to define it. Lets add some tweets with labels \"None\" to our dataset.\n",
    "\n",
    "The tweets corpus was taken from [Sentiment140 dataset](https://www.kaggle.com/kazanova/sentiment140).\n",
    "Unfortunately, I can't share the dataset because of file size limit on GitHub. But you can always download it from Kaggle."
   ]
  },
  {
   "cell_type": "code",
   "execution_count": 45,
   "metadata": {},
   "outputs": [],
   "source": [
    "not_a_job_list = pd.read_csv('tweets.csv', names=['target', 'ids', 'date', 'flag', 'user', 'Occupation'])\n",
    "not_a_job_list = not_a_job_list.drop(['target', 'ids', 'date', 'flag', 'user'], axis=1)\n",
    "not_a_job_list['Job Family'] = 'None'\n",
    "occupations_ds = pd.concat([occupations_ds, not_a_job_list.sample(n=2000)])"
   ]
  },
  {
   "cell_type": "code",
   "execution_count": 7,
   "metadata": {},
   "outputs": [
    {
     "data": {
      "text/plain": [
       "array([[<matplotlib.axes._subplots.AxesSubplot object at 0x138c1dc10>]],\n",
       "      dtype=object)"
      ]
     },
     "execution_count": 7,
     "metadata": {},
     "output_type": "execute_result"
    },
    {
     "data": {
      "image/png": "[encoded data removed]",
      "text/plain": [
       "<Figure size 432x288 with 1 Axes>"
      ]
     },
     "metadata": {
      "needs_background": "light"
     },
     "output_type": "display_data"
    }
   ],
   "source": [
    "occupations_ds.groupby('Job Family').count().hist()"
   ]
  },
  {
   "cell_type": "code",
   "execution_count": 23,
   "metadata": {},
   "outputs": [],
   "source": [
    "from sklearn.feature_extraction.text import TfidfTransformer, CountVectorizer\n",
    "from sklearn.pipeline import Pipeline\n",
    "from sklearn.model_selection import GridSearchCV\n",
    "from sklearn.metrics import classification_report,confusion_matrix\n",
    "from sklearn.svm import SVC"
   ]
  },
  {
   "cell_type": "markdown",
   "metadata": {},
   "source": [
    "[TF-IDF](https://en.wikipedia.org/wiki/Tf%E2%80%93idf) seems like a good choice to estimate importance of each single word for each single class. We'll use **TfidfTransformer** and **CountVectorizer** to extract features.\n",
    "\n",
    "Also I think it's a good idea to remove stop words and convert words to base form to increase classifier performance. **CountVectorizer** has *stop_words* argument and can remove english stop words automatically. In order to convert words to base form we'll use lemmatizer from spacy library.\n",
    "\n",
    "We need to save our custom vectorizer to file and import it if we want save and load our classifier with **joblib**"
   ]
  },
  {
   "cell_type": "code",
   "execution_count": 9,
   "metadata": {},
   "outputs": [
    {
     "name": "stdout",
     "output_type": "stream",
     "text": [
      "Overwriting spacyvectorizer.py\n"
     ]
    }
   ],
   "source": [
    "%%writefile spacyvectorizer.py\n",
    "from sklearn.feature_extraction.text import CountVectorizer\n",
    "import spacy\n",
    "spacy.load('en')\n",
    "class SpacyVectorizer(CountVectorizer):\n",
    "    lemmatizer = spacy.lang.en.English()\n",
    "    def __init__(self, stop_words, ngram_range, analyzer, max_features=None):\n",
    "        super(SpacyVectorizer, self).__init__(stop_words = stop_words, ngram_range = ngram_range, \\\n",
    "                                              analyzer = analyzer, max_features = max_features, \\\n",
    "                                              tokenizer = SpacyVectorizer.l_tokenizer)\n",
    "    @staticmethod\n",
    "    def l_tokenizer(doc):\n",
    "        tokens = SpacyVectorizer.lemmatizer(doc)\n",
    "        return([token.lemma_ for token in tokens if not token.is_punct])"
   ]
  },
  {
   "cell_type": "code",
   "execution_count": 10,
   "metadata": {},
   "outputs": [],
   "source": [
    "import os\n",
    "import sys\n",
    "module_path = os.path.abspath(os.path.join('..'))\n",
    "sys.path.append(module_path)\n",
    "\n",
    "from forever_alone_kaggle.SpacyVectorizer import SpacyVectorizer"
   ]
  },
  {
   "cell_type": "code",
   "execution_count": 26,
   "metadata": {},
   "outputs": [],
   "source": [
    "pipeline = Pipeline([\n",
    "    ('vect', SpacyVectorizer(stop_words='english', ngram_range=(1,1), analyzer='word')),\n",
    "    ('tfidf', TfidfTransformer()),\n",
    "    ('clf', SVC(class_weight='balanced')),\n",
    "])\n",
    "parameters = {'clf__C':[2**i for i in range(-5, 16, 2)], \\\n",
    "              'clf__gamma':[2**i for i in range(-15, 4, 2)], \\\n",
    "              'vect__max_features':[1200, 2000]}\n",
    "# Let's use cross-validation algorithm to get better parameters of our model. \n",
    "# Scoring is balanced because we have much more tweets than job titles in our dataset\n",
    "job_classifier = GridSearchCV(pipeline, parameters, cv=5, iid=True, scoring='balanced_accuracy')"
   ]
  },
  {
   "cell_type": "code",
   "execution_count": 27,
   "metadata": {},
   "outputs": [],
   "source": [
    "job_classifier.fit(occupations_ds['Occupation'], occupations_ds['Job Family'])\n",
    "job_classifier_best = job_classifier.best_estimator_"
   ]
  },
  {
   "cell_type": "code",
   "execution_count": 28,
   "metadata": {},
   "outputs": [
    {
     "name": "stdout",
     "output_type": "stream",
     "text": [
      "                                                precision    recall  f1-score   support\n",
      "\n",
      "                  Architecture and Engineering       0.94      0.90      0.92        80\n",
      "Arts, Design, Entertainment, Sports, and Media       0.82      0.87      0.84        52\n",
      " Building and Grounds Cleaning and Maintenance       0.75      0.90      0.82        10\n",
      "             Business and Financial Operations       0.83      0.86      0.84        57\n",
      "                  Community and Social Service       0.89      0.94      0.92        18\n",
      "                     Computer and Mathematical       0.90      0.77      0.83        35\n",
      "                   Construction and Extraction       0.90      0.81      0.85        67\n",
      "              Education, Training, and Library       0.98      0.88      0.93        66\n",
      "                Farming, Fishing, and Forestry       1.00      0.90      0.95        21\n",
      "          Food Preparation and Serving Related       0.84      0.84      0.84        19\n",
      "        Healthcare Practitioners and Technical       0.91      0.67      0.78        92\n",
      "                            Healthcare Support       0.73      0.84      0.78        19\n",
      "         Installation, Maintenance, and Repair       0.93      0.95      0.94        58\n",
      "                                         Legal       0.78      0.78      0.78         9\n",
      "            Life, Physical, and Social Science       0.85      0.85      0.85        72\n",
      "                                    Management       0.97      0.92      0.94        64\n",
      "                             Military Specific       0.95      1.00      0.98        20\n",
      "                                          None       0.96      0.99      0.98      2000\n",
      "             Office and Administrative Support       0.99      0.92      0.95        72\n",
      "                     Personal Care and Service       0.90      0.74      0.81        35\n",
      "                                    Production       0.95      0.78      0.86       122\n",
      "                            Protective Service       0.92      0.92      0.92        36\n",
      "                             Sales and Related       0.84      0.96      0.90        27\n",
      "            Transportation and Material Moving       0.88      0.90      0.89        59\n",
      "\n",
      "                                     micro avg       0.94      0.94      0.94      3110\n",
      "                                     macro avg       0.89      0.87      0.88      3110\n",
      "                                  weighted avg       0.94      0.94      0.94      3110\n",
      "\n"
     ]
    }
   ],
   "source": [
    "all_predictions = job_classifier_best.predict(occupations_ds['Occupation'])\n",
    "print(classification_report(occupations_ds['Job Family'],all_predictions))"
   ]
  },
  {
   "cell_type": "markdown",
   "metadata": {},
   "source": [
    "Pretty good f1-score. But it's true for a data which was used to train model. What about new tweets?"
   ]
  },
  {
   "cell_type": "code",
   "execution_count": 43,
   "metadata": {},
   "outputs": [
    {
     "data": {
      "text/plain": [
       "True     9903\n",
       "False      97\n",
       "dtype: int64"
      ]
     },
     "execution_count": 43,
     "metadata": {},
     "output_type": "execute_result"
    }
   ],
   "source": [
    "pd.Series((job_classifier_best.predict(not_a_job_list['Occupation'].sample(n=10000)) == 'None')).value_counts()"
   ]
  },
  {
   "cell_type": "code",
   "execution_count": 44,
   "metadata": {},
   "outputs": [
    {
     "data": {
      "text/plain": [
       "['job_classifier.joblib']"
      ]
     },
     "execution_count": 44,
     "metadata": {},
     "output_type": "execute_result"
    }
   ],
   "source": [
    "# I think it's pretty good too. Let's save our classifier for further work.\n",
    "from joblib import dump\n",
    "dump(job_classifier_best, 'job_classifier.joblib') "
   ]
  },
  {
   "cell_type": "code",
   "execution_count": null,
   "metadata": {},
   "outputs": [],
   "source": []
  }
 ],
 "metadata": {
  "kernelspec": {
   "display_name": "Python 2",
   "language": "python",
   "name": "python2"
  },
  "language_info": {
   "codemirror_mode": {
    "name": "ipython",
    "version": 2
   },
   "file_extension": ".py",
   "mimetype": "text/x-python",
   "name": "python",
   "nbconvert_exporter": "python",
   "pygments_lexer": "ipython2",
   "version": "2.7.15"
  }
 },
 "nbformat": 4,
 "nbformat_minor": 2
}
